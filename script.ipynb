{
 "cells": [
  {
   "cell_type": "markdown",
   "metadata": {},
   "source": []
  },
  {
   "cell_type": "markdown",
   "metadata": {},
   "source": [
    "Define the access key id and secret code for AWS."
   ]
  },
  {
   "cell_type": "code",
   "execution_count": 34,
   "metadata": {},
   "outputs": [],
   "source": [
    "access_key_id = ''\n",
    "secret_access_key = ''"
   ]
  },
  {
   "cell_type": "code",
   "execution_count": 1,
   "metadata": {
    "tags": []
   },
   "outputs": [
    {
     "name": "stdout",
     "output_type": "stream",
     "text": [
      "Requirement already satisfied: boto3 in /home/roman/.local/lib/python3.8/site-packages (1.15.11)\n",
      "Requirement already satisfied: botocore&lt;1.19.0,&gt;=1.18.11 in /home/roman/.local/lib/python3.8/site-packages (from boto3) (1.18.11)\n",
      "Requirement already satisfied: jmespath&lt;1.0.0,&gt;=0.7.1 in /home/roman/.local/lib/python3.8/site-packages (from boto3) (0.10.0)\n",
      "Requirement already satisfied: s3transfer&lt;0.4.0,&gt;=0.3.0 in /home/roman/.local/lib/python3.8/site-packages (from boto3) (0.3.3)\n",
      "Requirement already satisfied: python-dateutil&lt;3.0.0,&gt;=2.1 in /usr/lib/python3/dist-packages (from botocore&lt;1.19.0,&gt;=1.18.11-&gt;boto3) (2.7.3)\n",
      "Requirement already satisfied: urllib3&lt;1.26,&gt;=1.20; python_version != &quot;3.4&quot; in /usr/lib/python3/dist-packages (from botocore&lt;1.19.0,&gt;=1.18.11-&gt;boto3) (1.25.8)\n",
      "Note: you may need to restart the kernel to use updated packages.\n"
     ]
    }
   ],
   "source": [
    "pip install boto3"
   ]
  },
  {
   "cell_type": "code",
   "execution_count": 2,
   "metadata": {},
   "outputs": [],
   "source": [
    "import boto3"
   ]
  },
  {
   "cell_type": "code",
   "execution_count": 3,
   "metadata": {
    "tags": []
   },
   "outputs": [
    {
     "name": "stdout",
     "output_type": "stream",
     "text": [
      "this may already exist\n"
     ]
    }
   ],
   "source": [
    "s3 = boto3.resource('s3', aws_access_key_id=access_key_id,\n",
    "                    aws_secret_access_key=secret_access_key)\n",
    "try:\n",
    "    s3.create_bucket(Bucket='datacont-roman',\n",
    "                     CreateBucketConfiguration={'LocationConstraint': 'us-west-2'})\n",
    "except:\n",
    "    print(\"this may already exist\")"
   ]
  },
  {
   "cell_type": "code",
   "execution_count": 4,
   "metadata": {},
   "outputs": [
    {
     "data": {
      "text/plain": [
       "{&#39;ResponseMetadata&#39;: {&#39;RequestId&#39;: &#39;EM0GAJAV1SANCX7R&#39;,\n",
       "  &#39;HostId&#39;: &#39;iVA5Mdhd5Ik2D/xtouw017NBAsilT+HPqZShk9zzDyk3BT3aj5gNZr7iKMxSkRFKgAJtHxFltVA=&#39;,\n",
       "  &#39;HTTPStatusCode&#39;: 200,\n",
       "  &#39;HTTPHeaders&#39;: {&#39;x-amz-id-2&#39;: &#39;iVA5Mdhd5Ik2D/xtouw017NBAsilT+HPqZShk9zzDyk3BT3aj5gNZr7iKMxSkRFKgAJtHxFltVA=&#39;,\n",
       "   &#39;x-amz-request-id&#39;: &#39;EM0GAJAV1SANCX7R&#39;,\n",
       "   &#39;date&#39;: &#39;Mon, 05 Oct 2020 01:11:51 GMT&#39;,\n",
       "   &#39;content-length&#39;: &#39;0&#39;,\n",
       "   &#39;server&#39;: &#39;AmazonS3&#39;},\n",
       "  &#39;RetryAttempts&#39;: 1}}"
      ]
     },
     "execution_count": 4,
     "metadata": {},
     "output_type": "execute_result"
    }
   ],
   "source": [
    "bucket = s3.Bucket(\"datacont-roman\")\n",
    "bucket.Acl().put(ACL='public-read')"
   ]
  },
  {
   "cell_type": "code",
   "execution_count": 6,
   "metadata": {},
   "outputs": [
    {
     "data": {
      "text/plain": [
       "{&#39;ResponseMetadata&#39;: {&#39;RequestId&#39;: &#39;DD6012C6371F00BE&#39;,\n",
       "  &#39;HostId&#39;: &#39;wZ3bruXybwY9dIeuLlpeMAJefbDWsxziGFCysvSMj3QfFP0E5OkL2TKAgRgdfCHDWEhngGXtqls=&#39;,\n",
       "  &#39;HTTPStatusCode&#39;: 200,\n",
       "  &#39;HTTPHeaders&#39;: {&#39;x-amz-id-2&#39;: &#39;wZ3bruXybwY9dIeuLlpeMAJefbDWsxziGFCysvSMj3QfFP0E5OkL2TKAgRgdfCHDWEhngGXtqls=&#39;,\n",
       "   &#39;x-amz-request-id&#39;: &#39;DD6012C6371F00BE&#39;,\n",
       "   &#39;date&#39;: &#39;Mon, 05 Oct 2020 01:12:16 GMT&#39;,\n",
       "   &#39;content-length&#39;: &#39;0&#39;,\n",
       "   &#39;server&#39;: &#39;AmazonS3&#39;},\n",
       "  &#39;RetryAttempts&#39;: 0}}"
      ]
     },
     "execution_count": 6,
     "metadata": {},
     "output_type": "execute_result"
    }
   ],
   "source": [
    "#upload a new object into the bucket\n",
    "body = open('./exp1', 'rb')\n",
    "o = s3.Object('datacont-roman', 'test').put(Body=body)\n",
    "s3.Object('datacont-roman', 'test').Acl().put(ACL='public-read')"
   ]
  },
  {
   "cell_type": "code",
   "execution_count": 8,
   "metadata": {
    "tags": []
   },
   "outputs": [
    {
     "name": "stdout",
     "output_type": "stream",
     "text": [
      "0\n"
     ]
    }
   ],
   "source": [
    "dyndb = boto3.resource('dynamodb', region_name='us-west-2',\n",
    "                       aws_access_key_id=access_key_id, aws_secret_access_key=secret_access_key)\n",
    "try:\n",
    "    table = dyndb.create_table(\n",
    "        TableName='DataTable',\n",
    "        KeySchema=[\n",
    "            {\n",
    "                'AttributeName': 'PartitionKey',\n",
    "                'KeyType': 'HASH'\n",
    "            },\n",
    "            {\n",
    "                'AttributeName': 'RowKey',\n",
    "                'KeyType': 'RANGE'\n",
    "            }\n",
    "        ],\n",
    "        AttributeDefinitions=[\n",
    "            {\n",
    "                'AttributeName': 'PartitionKey',\n",
    "                'AttributeType': 'S'\n",
    "            },\n",
    "            {\n",
    "                'AttributeName': 'RowKey',\n",
    "                'AttributeType': 'S'\n",
    "            },\n",
    "        ],\n",
    "        ProvisionedThroughput={\n",
    "            'ReadCapacityUnits': 5,\n",
    "            'WriteCapacityUnits': 5\n",
    "        }\n",
    "    )\n",
    "except:\n",
    "    # if there is an exception, the table may already exist. if so...\n",
    "    table = dyndb.Table(\"DataTable\")\n",
    "\n",
    "# wait for the table to be created\n",
    "table.meta.client.get_waiter('table_exists').wait(TableName='DataTable')\n",
    "\n",
    "print(table.item_count)"
   ]
  },
  {
   "cell_type": "code",
   "execution_count": 17,
   "metadata": {},
   "outputs": [],
   "source": [
    "import csv"
   ]
  },
  {
   "cell_type": "markdown",
   "metadata": {},
   "source": [
    "Reading the csv file, uploading the blobs and creating the table"
   ]
  },
  {
   "cell_type": "code",
   "execution_count": 31,
   "metadata": {
    "tags": []
   },
   "outputs": [
    {
     "name": "stdout",
     "output_type": "stream",
     "text": [
      "[&#39;experiment1&#39;, &#39;1&#39;, &#39;3/15/2002&#39;, &#39;exp1&#39;, &#39;this is the comment&#39;]\n",
      "[&#39;experiment1&#39;, &#39;2&#39;, &#39;3/15/2002&#39;, &#39;exp2&#39;, &#39;this is the comment2&#39;]\n",
      "[&#39;experiment2&#39;, &#39;3&#39;, &#39;3/16/2002&#39;, &#39;exp3&#39;, &#39;this is the comment3&#39;]\n",
      "[&#39;experiment3&#39;, &#39;4&#39;, &#39;3/16/2002&#39;, &#39;exp4&#39;, &#39;this is the comment233&#39;]\n"
     ]
    }
   ],
   "source": [
    "with open('./experiments.csv', 'rt') as csvfile:\n",
    "    csvf = csv.reader(csvfile, delimiter=',', quotechar='|')\n",
    "    for item in csvf:\n",
    "        print(item)\n",
    "        body = open('./'+item[3], 'rb')\n",
    "        s3.Object('datacont-roman', item[3]).put(Body=body)\n",
    "        md = s3.Object('datacont-roman', item[3]).Acl().put(ACL='public-read')\n",
    "\n",
    "        url = \" https://s3-us-west-2.amazonaws.com/datacont-roman/\"+item[3]\n",
    "        metadata_item = {'PartitionKey': item[0], 'RowKey': item[1],\n",
    "                         'description': item[4], 'date': item[2], 'url': url}\n",
    "        try:\n",
    "            table.put_item(Item=metadata_item)\n",
    "        except:\n",
    "            print(\"item may already be there or another failure\")"
   ]
  },
  {
   "cell_type": "code",
   "execution_count": 32,
   "metadata": {
    "tags": []
   },
   "outputs": [
    {
     "name": "stdout",
     "output_type": "stream",
     "text": [
      "{&#39;PartitionKey&#39;: &#39;experiment3&#39;, &#39;RowKey&#39;: &#39;4&#39;, &#39;date&#39;: &#39;3/16/2002&#39;, &#39;description&#39;: &#39;this is the comment233&#39;, &#39;url&#39;: &#39; https://s3-us-west-2.amazonaws.com/datacont-roman/exp4&#39;}\n"
     ]
    }
   ],
   "source": [
    "response = table.get_item(\n",
    "    Key={\n",
    "        'PartitionKey': 'experiment3',\n",
    "        'RowKey': '4'\n",
    "    }\n",
    ")\n",
    "item = response['Item']\n",
    "print(item)"
   ]
  },
  {
   "cell_type": "code",
   "execution_count": 33,
   "metadata": {},
   "outputs": [
    {
     "data": {
      "text/plain": [
       "{&#39;Item&#39;: {&#39;PartitionKey&#39;: &#39;experiment3&#39;,\n",
       "  &#39;RowKey&#39;: &#39;4&#39;,\n",
       "  &#39;date&#39;: &#39;3/16/2002&#39;,\n",
       "  &#39;description&#39;: &#39;this is the comment233&#39;,\n",
       "  &#39;url&#39;: &#39; https://s3-us-west-2.amazonaws.com/datacont-roman/exp4&#39;},\n",
       " &#39;ResponseMetadata&#39;: {&#39;RequestId&#39;: &#39;7NNA8L1R02U1DP6FL8RSIQQCS7VV4KQNSO5AEMVJF66Q9ASUAAJG&#39;,\n",
       "  &#39;HTTPStatusCode&#39;: 200,\n",
       "  &#39;HTTPHeaders&#39;: {&#39;server&#39;: &#39;Server&#39;,\n",
       "   &#39;date&#39;: &#39;Mon, 05 Oct 2020 01:24:05 GMT&#39;,\n",
       "   &#39;content-type&#39;: &#39;application/x-amz-json-1.0&#39;,\n",
       "   &#39;content-length&#39;: &#39;204&#39;,\n",
       "   &#39;connection&#39;: &#39;keep-alive&#39;,\n",
       "   &#39;x-amzn-requestid&#39;: &#39;7NNA8L1R02U1DP6FL8RSIQQCS7VV4KQNSO5AEMVJF66Q9ASUAAJG&#39;,\n",
       "   &#39;x-amz-crc32&#39;: &#39;1765371357&#39;},\n",
       "  &#39;RetryAttempts&#39;: 0}}"
      ]
     },
     "execution_count": 33,
     "metadata": {},
     "output_type": "execute_result"
    }
   ],
   "source": [
    "response"
   ]
  }
 ],
 "metadata": {
  "kernelspec": {
   "display_name": "Python 3",
   "language": "python",
   "name": "python3"
  },
  "language_info": {
   "codemirror_mode": {
    "name": "ipython",
    "version": 3
   },
   "file_extension": ".py",
   "mimetype": "text/x-python",
   "name": "python",
   "nbconvert_exporter": "python",
   "pygments_lexer": "ipython3",
   "version": "3.8.2"
  }
 },
 "nbformat": 4,
 "nbformat_minor": 4
}
